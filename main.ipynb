{
 "cells": [
  {
   "cell_type": "markdown",
   "source": [
    "# Reaction-diffusion\n",
    "\n",
    "\n",
    "$$\n",
    "\\partial _t {\\bf q} = D \\nabla ^2 {\\bf q} + R(q)\n",
    "$$\n",
    "\n",
    "- ${\\bf q} ({\\bf x}, t)$ is a vector function dependent on the spatial coordinate $\\bf x$ and the time component $t$\n",
    "- $D$ is a diagonal matrix of diffusion coefficients\n",
    "- $\\nabla ^2$ is the laplace operator $\\nabla ^2 f = \\sum _{i=1}^n \\frac {\\partial ^2 f} {\\partial x_i^2}$.\n",
    "- $R$ describes local reactions"
   ],
   "metadata": {}
  },
  {
   "cell_type": "markdown",
   "source": [
    "\n",
    "## one-component system\n",
    "\n",
    "$$\n",
    "\\partial _t u = D \\partial _x^2 u + R(u)\n",
    "$$\n"
   ],
   "metadata": {}
  },
  {
   "cell_type": "markdown",
   "source": [
    "## two-component system\n",
    "$$\n",
    "\\begin{pmatrix}\n",
    "    \\partial _t a \\\\\n",
    "    \\partial _t b \\\\\n",
    "\\end{pmatrix}\n",
    "=\n",
    "\\begin{pmatrix}\n",
    "    D_A & 0 \\\\\n",
    "    0 & D_B \\\\\n",
    "\\end{pmatrix}\n",
    "\\begin{pmatrix}\n",
    "    \\nabla ^2 a \\\\\n",
    "    \\nabla ^2 b \\\\\n",
    "\\end{pmatrix}\n",
    "+\n",
    "\\begin{pmatrix}\n",
    "    F(a, b) \\\\\n",
    "    G(a, b) \\\\\n",
    "\\end{pmatrix}\n",
    "$$"
   ],
   "metadata": {}
  },
  {
   "cell_type": "markdown",
   "source": [
    "# Laplace Operator\n",
    "\n",
    "$$\n",
    "\\nabla ^ 2 u_{i,j} = \n",
    "\\frac 1 {h^2}\n",
    "(- 4 u_{i,j} \n",
    "+ u_{i-1,j}\n",
    "+ u_{i+1,j}\n",
    "+ u_{i,j-1}\n",
    "+ u_{i,j+1})\n",
    "$$\n",
    "\n",
    "Convolution operation\n",
    "$$\n",
    "\\nabla ^2 U = \n",
    "U * \n",
    "\\frac 1 {h^2}\n",
    "\\begin{pmatrix}\n",
    "    0 & 1 & 0 \\\\\n",
    "    1 & -4 & 1 \\\\\n",
    "    0 & 1 & 0 \\\\\n",
    "\\end{pmatrix}\n",
    "$$\n"
   ],
   "metadata": {}
  },
  {
   "cell_type": "code",
   "execution_count": null,
   "source": [
    "def laplace(u):\n",
    "    u_pad = F.pad(u.unsqueeze(0).unsqueeze_(0), (1, 1, 1, 1), mode='replicate').squeeze_()\n",
    "    u = - 4 * u + u_pad[2:, 1:-1] + u_pad[1:-1, 2:] + u_pad[:-2, 1:-1] + u_pad[1:-1, :-2]\n",
    "    u[:, 0] = u[0, :] = u[:, -1] = u[-1, :] = 0\n",
    "    return u"
   ],
   "outputs": [],
   "metadata": {}
  },
  {
   "cell_type": "markdown",
   "source": [
    "\n",
    "# Time discretization\n",
    "$$\n",
    "\\begin{pmatrix}\n",
    "    a_{t+1} \\\\\n",
    "    b_{t+1} \\\\\n",
    "\\end{pmatrix}\n",
    "=\n",
    "\\begin{pmatrix}\n",
    "    a_t \\\\\n",
    "    b_t \\\\\n",
    "\\end{pmatrix}\n",
    "+\n",
    "\\Delta t\n",
    "\\left [\n",
    "\\begin{pmatrix}\n",
    "    D_A & 0 \\\\\n",
    "    0 & D_B \\\\\n",
    "\\end{pmatrix}\n",
    "\\begin{pmatrix}\n",
    "    \\nabla ^2 a_t \\\\\n",
    "    \\nabla ^2 b_t \\\\\n",
    "\\end{pmatrix}\n",
    "+\n",
    "\\begin{pmatrix}\n",
    "    F(a_t, b_t) \\\\\n",
    "    G(a_t, b_t) \\\\\n",
    "\\end{pmatrix}\n",
    "\\right ]\n",
    "$$\n"
   ],
   "metadata": {}
  },
  {
   "cell_type": "markdown",
   "source": [
    "# Gray Scott\n",
    "$$\n",
    "\\begin{aligned}\n",
    "F(a, b) &= - ab ^2 + r_F (1 - a) \\\\\n",
    "G(a, b) &= ab ^2 + (r_K + r_F) (1 - a)\n",
    "\\end{aligned}\n",
    "$$\n",
    "\n",
    "where\n",
    "- $r_F$ is the feed rate\n",
    "- $r_K$ is the kill rate"
   ],
   "metadata": {}
  },
  {
   "cell_type": "code",
   "execution_count": null,
   "source": [
    "def step(A, B):\n",
    "    R = A * B ** 2\n",
    "    A += (rA * laplace(A) - R + rF * (1 - A)) * dt\n",
    "    B += (rB * laplace(B) + R - (rK + rF) * B) * dt"
   ],
   "outputs": [],
   "metadata": {}
  },
  {
   "cell_type": "markdown",
   "source": [
    "\n",
    "- $D_A = 0.16$\n",
    "- $D_B = 0.08$\n",
    "- $r_F = 0.055$\n",
    "- $r_K = 0.062$\n",
    "\n",
    "$$$$\n",
    "- $512 \\times 512$ grid\n",
    "- $h = 1$\n",
    "- $\\Delta t = 1$\n",
    "\n",
    "stationary (Neumann) boundary conditions\n",
    "\n",
    "|![img](markdown/2c_reaction_diffusion/t=0.png) |![img](markdown/2c_reaction_diffusion/t=1410.png) |![img](markdown/2c_reaction_diffusion/t=10680.png) |![img](markdown/2c_reaction_diffusion/t=25020.png)|\n",
    "| :----: | :----: | :----: | :----: |\n",
    "| $t = 0$ | $t = 1410$ | $t = 10680$ | $t = 25020$ |"
   ],
   "metadata": {}
  },
  {
   "cell_type": "markdown",
   "source": [
    "# 3-Component Reaction\n",
    "## Belousov-Zhabotinsky Reaction\n",
    "\n",
    "$$\n",
    "\\begin{aligned}\n",
    "A_{t+1} &= A_t + \\Delta t \\left (\\nabla ^2 A + \\bar A_t \\odot (\\bar B_t - \\bar C_t) \\right) \\\\\n",
    "B_{t+1} &= B_t + \\Delta t \\left (\\nabla ^2 B + \\bar B_t \\odot (\\bar C_t - \\bar A_t) \\right) \\\\\n",
    "C_{t+1} &= C_t + \\Delta t \\left (\\nabla ^2 C + \\bar C_t \\odot (\\bar A_t - \\bar B_t) \\right)\n",
    "\\end{aligned}\n",
    "$$\n",
    "\n",
    "where $\\odot$ is the element wise multiplication and $\\bar A$ is an average of the local neighborhood:\n",
    "\n",
    "$$\n",
    "\\begin{aligned}\n",
    "\\bar A \n",
    "&= \n",
    "A * \\frac 1 5\n",
    "\\begin{pmatrix}\n",
    "    0 & 1 & 0 \\\\\n",
    "    1 & 1 & 1 \\\\\n",
    "    0 & 1 & 0 \\\\\n",
    "\\end{pmatrix} \\\\\n",
    "&=\n",
    "A + \n",
    "A * \\frac 1 5\n",
    "\\begin{pmatrix}\n",
    "    0 & 1 & 0 \\\\\n",
    "    1 & -4 & 1 \\\\\n",
    "    0 & 1 & 0 \\\\\n",
    "\\end{pmatrix}\n",
    "&=\n",
    "A + \n",
    "\\nabla ^2 A \n",
    "\\end{aligned}\n",
    "$$\n",
    "\n",
    "with Species C located at the boundary"
   ],
   "metadata": {}
  },
  {
   "cell_type": "markdown",
   "source": [
    "| ![3componentreaction](markdown/3c_reaction/t=0.png) | ![3componentreaction](markdown/3c_reaction/t=21.png) | ![3componentreaction](markdown/3c_reaction/t=100.png) | ![3componentreaction](markdown/3c_reaction/t=10000.png) |\n",
    "|:--: | :--: | :--: | :--: |\n",
    "| $t=0$ | $t=21$ | $t=100$ | $t=10000$ |"
   ],
   "metadata": {}
  },
  {
   "cell_type": "markdown",
   "source": [
    "# 2D Wave Equation\n",
    "\n",
    "- $1024 \\times 1024$ grid\n",
    "- $h = 1$\n",
    "- $\\Delta t = 0.001$\n",
    "\n",
    "stationary (Neumann) boundary conditions\n",
    "\n",
    "\n",
    "applied color map and lighting model\n",
    "\n",
    "| ![wave_equation](markdown/wave_equation_colored/t=140.png) | ![wave_equation](markdown/wave_equation_colored/t=400.png) | ![wave_equation](markdown/wave_equation_colored/t=790.png) | ![wave_equation](markdown/wave_equation_colored/t=1205.png) | ![wave_equation](markdown/wave_equation_colored/t=1620.png) | ![wave_equation](markdown/wave_equation_colored/t=2045.png) | ![wave_equation](markdown/wave_equation_colored/t=3830.png) | ![wave_equation](markdown/wave_equation_colored/t=4230.png) | ![wave_equation](markdown/wave_equation_colored/t=5700.png) | ![wave_equation](markdown/wave_equation_colored/t=6395.png) | ![wave_equation](markdown/wave_equation_colored/t=7005.png) | ![wave_equation](markdown/wave_equation_colored/t=8190.png) | \n",
    "| :-: | :-: | :-: | :-: | :-: | :-: | :-: | :-: | :-: | :-: | :-: | :-: |\n",
    "| $t=0.14$ | $t=0.4$ | $t=0.79$ | $t=0.1205$ | $t=0.162$ | $t=0.2045$ | $t=0.383$ | $t=0.423$ | $t=0.57$ | $t=0.6395$ | $t=0.7005$ | $t=0.819$ |"
   ],
   "metadata": {}
  },
  {
   "cell_type": "markdown",
   "source": [],
   "metadata": {}
  }
 ],
 "metadata": {
  "orig_nbformat": 4,
  "language_info": {
   "name": "python",
   "version": "3.8.5"
  },
  "kernelspec": {
   "name": "python3",
   "display_name": "Python 3.8.5 64-bit ('base': conda)"
  },
  "interpreter": {
   "hash": "9f2ff03b0e550391b57288911a993e3311161629073c1df9e2d0db040df778ef"
  }
 },
 "nbformat": 4,
 "nbformat_minor": 2
}