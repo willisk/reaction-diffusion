{
 "cells": [
  {
   "cell_type": "markdown",
   "source": [
    "# Reaction-diffusion\n",
    "\n",
    "\n",
    "$$\n",
    "\\renewcommand\\vec[1]{{\\bf#1}}\n",
    "\\partial _t \\vec q = D \\nabla ^2 \\vec q + R(q)\n",
    "$$\n",
    "\n",
    "- ${\\bf q} ({\\bf x}, t)$ is a vector function dependent on the spatial coordinate $\\bf x$ and the time component $t$\n",
    "- $D$ is a diagonal matrix of diffusion coefficients\n",
    "- $\\nabla ^2$ is the laplace operator $\\nabla ^2 f = \\sum _{i=1}^n \\frac {\\partial ^2 f} {\\partial x_i^2}$.\n",
    "- $R$ describes local reactions"
   ],
   "metadata": {}
  },
  {
   "cell_type": "markdown",
   "source": [
    "\n",
    "## one-component\n",
    "\n",
    "$$\n",
    "\\partial _t u = D \\partial _x^2 u + R(u)\n",
    "$$\n"
   ],
   "metadata": {}
  },
  {
   "cell_type": "markdown",
   "source": [
    "## two-dimensions\n",
    "$$\n",
    "\\begin{pmatrix}\n",
    "    \\partial _t a \\\\\n",
    "    \\partial _t b \\\\\n",
    "\\end{pmatrix}\n",
    "=\n",
    "\\begin{pmatrix}\n",
    "    D_A & 0 \\\\\n",
    "    0 & D_B \\\\\n",
    "\\end{pmatrix}\n",
    "\\begin{pmatrix}\n",
    "    \\nabla ^2 a \\\\\n",
    "    \\nabla ^2 b \\\\\n",
    "\\end{pmatrix}\n",
    "+\n",
    "\\begin{pmatrix}\n",
    "    F(a, b) \\\\\n",
    "    G(a, b) \\\\\n",
    "\\end{pmatrix}\n",
    "$$"
   ],
   "metadata": {}
  },
  {
   "cell_type": "markdown",
   "source": [
    "# Laplace Operator\n",
    "$$\n",
    "\\nabla ^ 2 u_{i,j} = - 4 u_{i,j} \n",
    "+ u_{i-1,j}\n",
    "+ u_{i+1,j}\n",
    "+ u_{i,j-1}\n",
    "+ u_{i,j+1}\n",
    "$$\n",
    "\n",
    "$$\n",
    "\\nabla ^2 U = U * \n",
    "\\begin{pmatrix}\n",
    "    0 & 1 & 0 \\\\\n",
    "    1 & -4 & 1 \\\\\n",
    "    0 & 1 & 0 \\\\\n",
    "\\end{pmatrix}\n",
    "$$\n"
   ],
   "metadata": {}
  },
  {
   "cell_type": "code",
   "execution_count": null,
   "source": [
    "def laplace(u):\n",
    "    u_pad = F.pad(u.unsqueeze(0).unsqueeze_(0), (1, 1, 1, 1), mode='replicate').squeeze_()\n",
    "    u = - 4 * u + u_pad[2:, 1:-1] + u_pad[1:-1, 2:] + u_pad[:-2, 1:-1] + u_pad[1:-1, :-2]\n",
    "    u[:, 0] = u[0, :] = u[:, -1] = u[-1, :] = 0\n",
    "    return u"
   ],
   "outputs": [],
   "metadata": {}
  },
  {
   "cell_type": "markdown",
   "source": [
    "\n",
    "# Time discretization\n",
    "$$\n",
    "\\begin{pmatrix}\n",
    "    a_{t+1} \\\\\n",
    "    b_{t+1} \\\\\n",
    "\\end{pmatrix}\n",
    "=\n",
    "\\begin{pmatrix}\n",
    "    a_t \\\\\n",
    "    b_t \\\\\n",
    "\\end{pmatrix}\n",
    "+\n",
    "\\begin{pmatrix}\n",
    "    D_A & 0 \\\\\n",
    "    0 & D_B \\\\\n",
    "\\end{pmatrix}\n",
    "\\begin{pmatrix}\n",
    "    \\nabla ^2 a_t \\\\\n",
    "    \\nabla ^2 b_t \\\\\n",
    "\\end{pmatrix}\n",
    "+\n",
    "\\begin{pmatrix}\n",
    "    F(a_t, b_t) \\\\\n",
    "    G(a_t, b_t) \\\\\n",
    "\\end{pmatrix}\n",
    "$$\n"
   ],
   "metadata": {}
  },
  {
   "cell_type": "markdown",
   "source": [
    "# Gray Scott\n",
    "$$\n",
    "\\begin{aligned}\n",
    "F(a, b) &= - ab ^2 + r_F (1 - a) \\\\\n",
    "G(a, b) &= ab ^2 + (r_K + r_F) (1 - a)\n",
    "\\end{aligned}\n",
    "$$\n",
    "\n",
    "where\n",
    "- $r_F$ is the feed rate\n",
    "- $r_K$ is the kill rate"
   ],
   "metadata": {}
  },
  {
   "cell_type": "code",
   "execution_count": null,
   "source": [
    "def step(A, B):\n",
    "    R = A * B ** 2\n",
    "    A += (rA * laplace(A) - R + rF * (1 - A)) * dt\n",
    "    B += (rB * laplace(B) + R - (rK + rF) * B) * dt"
   ],
   "outputs": [],
   "metadata": {}
  }
 ],
 "metadata": {
  "orig_nbformat": 4,
  "language_info": {
   "name": "python",
   "version": "3.8.5"
  },
  "kernelspec": {
   "name": "python3",
   "display_name": "Python 3.8.5 64-bit ('base': conda)"
  },
  "interpreter": {
   "hash": "9f2ff03b0e550391b57288911a993e3311161629073c1df9e2d0db040df778ef"
  }
 },
 "nbformat": 4,
 "nbformat_minor": 2
}